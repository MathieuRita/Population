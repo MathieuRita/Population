{
 "cells": [
  {
   "cell_type": "code",
   "execution_count": 5,
   "id": "6ee36b1b",
   "metadata": {},
   "outputs": [],
   "source": [
    "import numpy as np\n",
    "import torch as th"
   ]
  },
  {
   "cell_type": "code",
   "execution_count": 24,
   "id": "b4170206",
   "metadata": {},
   "outputs": [
    {
     "name": "stdout",
     "output_type": "stream",
     "text": [
      "tensor([[1., 0., 0.],\n",
      "        [0., 1., 0.],\n",
      "        [0., 0., 1.],\n",
      "        [1., 0., 0.],\n",
      "        [0., 1., 0.],\n",
      "        [0., 0., 1.],\n",
      "        [1., 0., 0.],\n",
      "        [0., 1., 0.],\n",
      "        [0., 0., 1.]])\n",
      "tensor([[0., 0.],\n",
      "        [0., 0.],\n",
      "        [0., 0.],\n",
      "        [1., 1.],\n",
      "        [1., 1.],\n",
      "        [1., 1.],\n",
      "        [2., 2.],\n",
      "        [2., 2.],\n",
      "        [2., 2.]])\n",
      "tensor([[ 0.0000e+00, -1.0000e+10, -1.0000e+10],\n",
      "        [ 0.0000e+00,  0.0000e+00, -1.0000e+10],\n",
      "        [-1.0000e+10, -1.0000e+10,  0.0000e+00]])\n",
      "cc\n",
      "tensor([1., 2., 1.])\n"
     ]
    }
   ],
   "source": [
    "inputs = th.Tensor([[1,0,0],[0,1,0],[0,0,1]])\n",
    "messages = th.Tensor([[0,0],[1,1],[2,2]])\n",
    "\n",
    "batch_size = messages.size(0)\n",
    "\n",
    "id_sampled_messages = np.arange(batch_size)\n",
    "sampled_messages = messages[id_sampled_messages]\n",
    "sampled_messages = sampled_messages.unsqueeze(0)\n",
    "sampled_messages = sampled_messages.repeat(batch_size, 1, 1)\n",
    "sampled_messages = sampled_messages.permute(1, 0, 2)\n",
    "sampled_messages = sampled_messages.reshape([batch_size * batch_size, sampled_messages.size(-1)])\n",
    "sampled_x = inputs.repeat(batch_size, 1, 1, 1)\n",
    "sampled_x = sampled_x.reshape([batch_size * batch_size, *inputs.size()[1:]])\n",
    "\n",
    "print(sampled_x)\n",
    "print(sampled_messages)\n",
    "\n",
    "eps=-10**10\n",
    "log_probs = th.Tensor([0,0,eps,eps,0,eps,eps,eps,0])\n",
    "#m1|x1, m2|x2, m3|x3, m2|x1, m2|x2, m2|x3, m3|x1, m3|x2, m3|x3\n",
    "\n",
    "log_pi_m_x = log_probs.reshape([batch_size, batch_size]).T\n",
    "pi_m_x = th.exp(log_pi_m_x)\n",
    "p_x = th.ones(batch_size) / batch_size  # Here we set p(x)=1/batch_size\n",
    "p_x = p_x.to(pi_m_x.device)  # Fix device issue\n",
    "\n",
    "print(log_pi_m_x)\n",
    "print(\"cc\")\n",
    "print(pi_m_x.sum(1))\n",
    "\n",
    "log_p_x = th.log(p_x)\n",
    "log_pi_m = th.log((pi_m_x * p_x).sum(1))\n",
    "log_pi_m_x = th.log(pi_m_x.diagonal(0))\n",
    "\n",
    "mutual_information = log_pi_m_x + log_p_x - log_pi_m\n",
    "\n",
    "loss_mi = -1*log_pi_m_x*mutual_information.detach()"
   ]
  },
  {
   "cell_type": "code",
   "execution_count": 34,
   "id": "b15e7747",
   "metadata": {},
   "outputs": [
    {
     "name": "stdout",
     "output_type": "stream",
     "text": [
      "torch.Size([20, 2, 2])\n"
     ]
    }
   ],
   "source": [
    "target_messages=[]\n",
    "\n",
    "for sender_id in [\"_\",\"_\"]:\n",
    "    for _ in range(10):\n",
    "        messages = th.Tensor([[2,2],[1,1]])\n",
    "        target_messages.append(messages)\n",
    "\n",
    "target_messages=th.stack(target_messages)\n",
    "\n",
    "print(target_messages.size())"
   ]
  },
  {
   "cell_type": "code",
   "execution_count": 40,
   "id": "7ffba8b9",
   "metadata": {},
   "outputs": [
    {
     "name": "stdout",
     "output_type": "stream",
     "text": [
      "torch.Size([3, 1024, 4, 4])\n"
     ]
    }
   ],
   "source": [
    "a=th.zeros(1024,4,4)\n",
    "\n",
    "L=[]\n",
    "\n",
    "for _ in range(3):\n",
    "    L.append(a)\n",
    "print(th.stack(L).reshape(.size())"
   ]
  }
 ],
 "metadata": {
  "kernelspec": {
   "display_name": "Python 3",
   "language": "python",
   "name": "python3"
  },
  "language_info": {
   "codemirror_mode": {
    "name": "ipython",
    "version": 3
   },
   "file_extension": ".py",
   "mimetype": "text/x-python",
   "name": "python",
   "nbconvert_exporter": "python",
   "pygments_lexer": "ipython3",
   "version": "3.6.13"
  }
 },
 "nbformat": 4,
 "nbformat_minor": 5
}
