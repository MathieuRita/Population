{
 "cells": [
  {
   "cell_type": "code",
   "execution_count": 5,
   "id": "9fef019c",
   "metadata": {},
   "outputs": [],
   "source": [
    "import numpy as np\n",
    "import torch as th"
   ]
  },
  {
   "cell_type": "code",
   "execution_count": 24,
   "id": "88999773",
   "metadata": {},
   "outputs": [
    {
     "name": "stdout",
     "output_type": "stream",
     "text": [
      "tensor([[1., 0., 0.],\n",
      "        [0., 1., 0.],\n",
      "        [0., 0., 1.],\n",
      "        [1., 0., 0.],\n",
      "        [0., 1., 0.],\n",
      "        [0., 0., 1.],\n",
      "        [1., 0., 0.],\n",
      "        [0., 1., 0.],\n",
      "        [0., 0., 1.]])\n",
      "tensor([[0., 0.],\n",
      "        [0., 0.],\n",
      "        [0., 0.],\n",
      "        [1., 1.],\n",
      "        [1., 1.],\n",
      "        [1., 1.],\n",
      "        [2., 2.],\n",
      "        [2., 2.],\n",
      "        [2., 2.]])\n",
      "tensor([[ 0.0000e+00, -1.0000e+10, -1.0000e+10],\n",
      "        [ 0.0000e+00,  0.0000e+00, -1.0000e+10],\n",
      "        [-1.0000e+10, -1.0000e+10,  0.0000e+00]])\n",
      "cc\n",
      "tensor([1., 2., 1.])\n"
     ]
    }
   ],
   "source": [
    "inputs = th.Tensor([[1,0,0],[0,1,0],[0,0,1]])\n",
    "messages = th.Tensor([[0,0],[1,1],[2,2]])\n",
    "\n",
    "batch_size = messages.size(0)\n",
    "\n",
    "id_sampled_messages = np.arange(batch_size)\n",
    "sampled_messages = messages[id_sampled_messages]\n",
    "sampled_messages = sampled_messages.unsqueeze(0)\n",
    "sampled_messages = sampled_messages.repeat(batch_size, 1, 1)\n",
    "sampled_messages = sampled_messages.permute(1, 0, 2)\n",
    "sampled_messages = sampled_messages.reshape([batch_size * batch_size, sampled_messages.size(-1)])\n",
    "sampled_x = inputs.repeat(batch_size, 1, 1, 1)\n",
    "sampled_x = sampled_x.reshape([batch_size * batch_size, *inputs.size()[1:]])\n",
    "\n",
    "print(sampled_x)\n",
    "print(sampled_messages)\n",
    "\n",
    "eps=-10**10\n",
    "log_probs = th.Tensor([0,0,eps,eps,0,eps,eps,eps,0])\n",
    "#m1|x1, m2|x2, m3|x3, m2|x1, m2|x2, m2|x3, m3|x1, m3|x2, m3|x3\n",
    "\n",
    "log_pi_m_x = log_probs.reshape([batch_size, batch_size]).T\n",
    "pi_m_x = th.exp(log_pi_m_x)\n",
    "p_x = th.ones(batch_size) / batch_size  # Here we set p(x)=1/batch_size\n",
    "p_x = p_x.to(pi_m_x.device)  # Fix device issue\n",
    "\n",
    "print(log_pi_m_x)\n",
    "print(\"cc\")\n",
    "print(pi_m_x.sum(1))\n",
    "\n",
    "log_p_x = th.log(p_x)\n",
    "log_pi_m = th.log((pi_m_x * p_x).sum(1))\n",
    "log_pi_m_x = th.log(pi_m_x.diagonal(0))\n",
    "\n",
    "mutual_information = log_pi_m_x + log_p_x - log_pi_m\n",
    "\n",
    "loss_mi = -1*log_pi_m_x*mutual_information.detach()"
   ]
  },
  {
   "cell_type": "code",
   "execution_count": 34,
   "id": "72759df8",
   "metadata": {},
   "outputs": [
    {
     "name": "stdout",
     "output_type": "stream",
     "text": [
      "torch.Size([20, 2, 2])\n"
     ]
    }
   ],
   "source": [
    "target_messages=[]\n",
    "\n",
    "for sender_id in [\"_\",\"_\"]:\n",
    "    for _ in range(10):\n",
    "        messages = th.Tensor([[2,2],[1,1]])\n",
    "        target_messages.append(messages)\n",
    "\n",
    "target_messages=th.stack(target_messages)\n",
    "\n",
    "print(target_messages.size())"
   ]
  },
  {
   "cell_type": "code",
   "execution_count": 52,
   "id": "66c0f08e",
   "metadata": {},
   "outputs": [
    {
     "name": "stdout",
     "output_type": "stream",
     "text": [
      "coucou\n"
     ]
    }
   ],
   "source": [
    "import collections\n",
    "\n",
    "C = collections.namedtuple(\"Batch\",[\"data\",\"sender_id\",\"receiver_id\",\"imitator_id\"])\n",
    "\n",
    "a=C(sender_id=2,receiver_id=3,imitator_id=4,data=2)\n",
    "\n",
    "if getattr(a, \"sender_id\", False):\n",
    "    print(\"coucou\")"
   ]
  },
  {
   "cell_type": "code",
   "execution_count": 87,
   "id": "ab7d6e25",
   "metadata": {},
   "outputs": [
    {
     "data": {
      "image/png": "[encoded data removed]",
      "text/plain": [
       "<Figure size 432x288 with 1 Axes>"
      ]
     },
     "metadata": {
      "needs_background": "light"
     },
     "output_type": "display_data"
    },
    {
     "name": "stdout",
     "output_type": "stream",
     "text": [
      "50\n"
     ]
    }
   ],
   "source": [
    "import matplotlib.pyplot as plt\n",
    "\n",
    "mi_values=np.load(\"/Users/mrita/Desktop/Work/CUP/saved_mi_values.npy\")\n",
    "gene_labels=np.load(\"/Users/mrita/Desktop/Work/CUP/gene_labels.npy\")\n",
    "\n",
    "ordered_mi_idx = np.argsort(mi_values)[::-1]\n",
    "\n",
    "plt.plot(mi_values[ordered_mi_idx])\n",
    "plt.show()\n",
    "\n",
    "print(np.sum(mi_values>0.7))"
   ]
  },
  {
   "cell_type": "code",
   "execution_count": 112,
   "id": "78fef9f0",
   "metadata": {},
   "outputs": [
    {
     "ename": "IndexError",
     "evalue": "Dimension out of range (expected to be in range of [-2, 1], but got 2)",
     "output_type": "error",
     "traceback": [
      "\u001b[0;31m---------------------------------------------------------------------------\u001b[0m",
      "\u001b[0;31mIndexError\u001b[0m                                Traceback (most recent call last)",
      "\u001b[0;32m<ipython-input-112-dc1ac5cc0d44>\u001b[0m in \u001b[0;36m<module>\u001b[0;34m\u001b[0m\n\u001b[1;32m      2\u001b[0m \u001b[0;34m\u001b[0m\u001b[0m\n\u001b[1;32m      3\u001b[0m \u001b[0mmessages\u001b[0m\u001b[0;34m=\u001b[0m\u001b[0mth\u001b[0m\u001b[0;34m.\u001b[0m\u001b[0mTensor\u001b[0m\u001b[0;34m(\u001b[0m\u001b[0;34m[\u001b[0m\u001b[0;34m[\u001b[0m\u001b[0;36m2\u001b[0m\u001b[0;34m,\u001b[0m\u001b[0;36m3\u001b[0m\u001b[0;34m,\u001b[0m\u001b[0;36m4\u001b[0m\u001b[0;34m,\u001b[0m\u001b[0;36m5\u001b[0m\u001b[0;34m]\u001b[0m\u001b[0;34m,\u001b[0m\u001b[0;34m[\u001b[0m\u001b[0;36m2\u001b[0m\u001b[0;34m,\u001b[0m\u001b[0;36m3\u001b[0m\u001b[0;34m,\u001b[0m\u001b[0;36m1\u001b[0m\u001b[0;34m,\u001b[0m\u001b[0;36m5\u001b[0m\u001b[0;34m]\u001b[0m\u001b[0;34m]\u001b[0m\u001b[0;34m)\u001b[0m\u001b[0;34m\u001b[0m\u001b[0;34m\u001b[0m\u001b[0m\n\u001b[0;32m----> 4\u001b[0;31m \u001b[0mmessages\u001b[0m \u001b[0;34m=\u001b[0m \u001b[0mth\u001b[0m\u001b[0;34m.\u001b[0m\u001b[0mcat\u001b[0m\u001b[0;34m(\u001b[0m\u001b[0;34m(\u001b[0m\u001b[0mmessages\u001b[0m\u001b[0;34m,\u001b[0m\u001b[0mth\u001b[0m\u001b[0;34m.\u001b[0m\u001b[0mzeros\u001b[0m\u001b[0;34m(\u001b[0m\u001b[0mmessages\u001b[0m\u001b[0;34m.\u001b[0m\u001b[0msize\u001b[0m\u001b[0;34m(\u001b[0m\u001b[0;36m0\u001b[0m\u001b[0;34m)\u001b[0m\u001b[0;34m,\u001b[0m\u001b[0;36m1\u001b[0m\u001b[0;34m)\u001b[0m\u001b[0;34m)\u001b[0m\u001b[0;34m,\u001b[0m\u001b[0mdim\u001b[0m\u001b[0;34m=\u001b[0m\u001b[0;36m2\u001b[0m\u001b[0;34m)\u001b[0m\u001b[0;34m\u001b[0m\u001b[0;34m\u001b[0m\u001b[0m\n\u001b[0m\u001b[1;32m      5\u001b[0m \u001b[0mstart_token\u001b[0m \u001b[0;34m=\u001b[0m \u001b[0mth\u001b[0m\u001b[0;34m.\u001b[0m\u001b[0mnn\u001b[0m\u001b[0;34m.\u001b[0m\u001b[0mfunctional\u001b[0m\u001b[0;34m.\u001b[0m\u001b[0mone_hot\u001b[0m\u001b[0;34m(\u001b[0m\u001b[0mth\u001b[0m\u001b[0;34m.\u001b[0m\u001b[0mTensor\u001b[0m\u001b[0;34m(\u001b[0m\u001b[0mmessages\u001b[0m\u001b[0;34m.\u001b[0m\u001b[0msize\u001b[0m\u001b[0;34m(\u001b[0m\u001b[0;36m0\u001b[0m\u001b[0;34m)\u001b[0m\u001b[0;34m*\u001b[0m\u001b[0;34m[\u001b[0m\u001b[0mvoc_size\u001b[0m\u001b[0;34m]\u001b[0m\u001b[0;34m)\u001b[0m\u001b[0;34m.\u001b[0m\u001b[0mto\u001b[0m\u001b[0;34m(\u001b[0m\u001b[0mint\u001b[0m\u001b[0;34m)\u001b[0m\u001b[0;34m,\u001b[0m\u001b[0mnum_classes\u001b[0m\u001b[0;34m=\u001b[0m\u001b[0mvoc_size\u001b[0m\u001b[0;34m+\u001b[0m\u001b[0;36m1\u001b[0m\u001b[0;34m)\u001b[0m\u001b[0;34m\u001b[0m\u001b[0;34m\u001b[0m\u001b[0m\n\u001b[1;32m      6\u001b[0m \u001b[0mstart_token\u001b[0m \u001b[0;34m=\u001b[0m \u001b[0mstart_token\u001b[0m\u001b[0;34m.\u001b[0m\u001b[0munsqueeze\u001b[0m\u001b[0;34m(\u001b[0m\u001b[0;36m1\u001b[0m\u001b[0;34m)\u001b[0m\u001b[0;34m\u001b[0m\u001b[0;34m\u001b[0m\u001b[0m\n",
      "\u001b[0;31mIndexError\u001b[0m: Dimension out of range (expected to be in range of [-2, 1], but got 2)"
     ]
    }
   ],
   "source": [
    "voc_size=3\n",
    "\n",
    "messages=th.Tensor([[2,3,4,5],[2,3,1,5]])\n",
    "messages = th.cat((messages,th.zeros(messages.size(0),1)),dim=2)\n",
    "start_token = messages.size(0)*th.\n",
    "start_token = start_token.unsqueeze(1)\n",
    "messages = th.cat((start_token,messages),dim=1)\n",
    "\n",
    "print(messages.size())\n",
    "print(messages)"
   ]
  },
  {
   "cell_type": "code",
   "execution_count": 104,
   "id": "a044a5f7",
   "metadata": {},
   "outputs": [
    {
     "name": "stdout",
     "output_type": "stream",
     "text": [
      "tensor([3., 2.])\n"
     ]
    },
    {
     "data": {
      "text/plain": [
       "tensor([[0, 0, 0, 1],\n",
       "        [0, 0, 1, 0]])"
      ]
     },
     "execution_count": 104,
     "metadata": {},
     "output_type": "execute_result"
    }
   ],
   "source": [
    "th.nn.functional.one_hot(th.Tensor([3,2]).to(int),num_classes=4)"
   ]
  }
 ],
 "metadata": {
  "kernelspec": {
   "display_name": "Python 3",
   "language": "python",
   "name": "python3"
  },
  "language_info": {
   "codemirror_mode": {
    "name": "ipython",
    "version": 3
   },
   "file_extension": ".py",
   "mimetype": "text/x-python",
   "name": "python",
   "nbconvert_exporter": "python",
   "pygments_lexer": "ipython3",
   "version": "3.6.13"
  }
 },
 "nbformat": 4,
 "nbformat_minor": 5
}
