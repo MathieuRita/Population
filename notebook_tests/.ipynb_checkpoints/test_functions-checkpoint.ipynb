{
 "cells": [
  {
   "cell_type": "code",
   "execution_count": 1,
   "id": "4ffd4c1e-68b8-46d4-9571-56c75a5cb068",
   "metadata": {},
   "outputs": [],
   "source": [
    "import json"
   ]
  },
  {
   "cell_type": "code",
   "execution_count": 45,
   "id": "5ade8370-462e-4eb2-8b01-1a5e47989927",
   "metadata": {},
   "outputs": [],
   "source": [
    "pop_path = \"/Users/mrita/Desktop/Work/PhD/Population/json/population_1.json\"\n",
    "agents_path = \"/Users/mrita/Desktop/Work/PhD/Population/json/agents.json\"\n",
    "game_path = \"/Users/mrita/Desktop/Work/PhD/Population/json/onehotcompositionality_game.json\""
   ]
  },
  {
   "cell_type": "code",
   "execution_count": 19,
   "id": "06d5cbf7-1424-41f0-8866-7f5b92b2fc74",
   "metadata": {},
   "outputs": [],
   "source": [
    "def parse_population_json(json_file):\n",
    "\n",
    "    with open(json_file) as f:\n",
    "        pop_params_dict = json.load(f)\n",
    "\n",
    "    n_agents = pop_params_dict[\"n_agents\"]\n",
    "    list_agents = pop_params_dict[\"list_agents\"]\n",
    "    population_type = pop_params_dict[\"population_type\"]\n",
    "\n",
    "    return n_agents, list_agents, population_type"
   ]
  },
  {
   "cell_type": "code",
   "execution_count": 20,
   "id": "1ad648bc-f82a-4cfd-89c4-5627e31d29da",
   "metadata": {},
   "outputs": [],
   "source": [
    "t=parse_population_json(pop_path)"
   ]
  },
  {
   "cell_type": "code",
   "execution_count": 30,
   "id": "d3063c19-3a3e-4f06-94de-636902548781",
   "metadata": {},
   "outputs": [],
   "source": [
    "def parse_agents_json(json_file):\n",
    "\n",
    "    with open(json_file) as f:\n",
    "        agents = json.load(f)\n",
    "\n",
    "    return agents"
   ]
  },
  {
   "cell_type": "code",
   "execution_count": 43,
   "id": "7166658a-de72-4b5f-bc0f-0d3e7fc1e923",
   "metadata": {},
   "outputs": [],
   "source": [
    "agents = parse_agents_json(agents_path)"
   ]
  },
  {
   "cell_type": "code",
   "execution_count": 44,
   "id": "3d15c1df-78d7-4c49-b687-a53d32a8bdea",
   "metadata": {},
   "outputs": [
    {
     "data": {
      "text/plain": [
       "{'default_sender': {'sender': 1,\n",
       "  'receiver': 0,\n",
       "  'sender_cell': 'LSTM',\n",
       "  'sender_num_layers': 1,\n",
       "  'sender_hidden_size': 128,\n",
       "  'sender_embed_dim': 128,\n",
       "  'optimizer': 'Adam',\n",
       "  'loss': 'REINFORCE',\n",
       "  'reward': 'log',\n",
       "  'learning_freq': 1,\n",
       "  'lr': 0.0005,\n",
       "  'entropy_reg': 0.002},\n",
       " 'default_receiver': {'sender': 0,\n",
       "  'receiver': 1,\n",
       "  'receiver_cell': 'LSTM',\n",
       "  'receiver_num_layers': 1,\n",
       "  'receiver_hidden_size': 128,\n",
       "  'receiver_embed_dim': 128,\n",
       "  'optimizer': 'Adam',\n",
       "  'loss': 'cross_entropy',\n",
       "  'learning_freq': 1,\n",
       "  'lr': 0.0005}}"
      ]
     },
     "execution_count": 44,
     "metadata": {},
     "output_type": "execute_result"
    }
   ],
   "source": [
    "agents"
   ]
  },
  {
   "cell_type": "code",
   "execution_count": 47,
   "id": "e0fedafa-b2f5-4280-bee2-743d7dfe1641",
   "metadata": {},
   "outputs": [
    {
     "data": {
      "text/plain": [
       "{'game_name': 'one_hot_compositionality',\n",
       " 'objects': {'n_attributes': 4, 'n_values': 4},\n",
       " 'channel': {'voc_size': 20, 'max_len': 10}}"
      ]
     },
     "execution_count": 47,
     "metadata": {},
     "output_type": "execute_result"
    }
   ],
   "source": [
    "def parse_game_json(json_file):\n",
    "\n",
    "    with open(json_file) as f:\n",
    "        game_params = json.load(f)\n",
    "\n",
    "    return game_params\n",
    "\n",
    "game_params = parse_agents_game(game_path)\n",
    "game_params"
   ]
  }
 ],
 "metadata": {
  "kernelspec": {
   "display_name": "Python 3",
   "language": "python",
   "name": "python3"
  },
  "language_info": {
   "codemirror_mode": {
    "name": "ipython",
    "version": 3
   },
   "file_extension": ".py",
   "mimetype": "text/x-python",
   "name": "python",
   "nbconvert_exporter": "python",
   "pygments_lexer": "ipython3",
   "version": "3.6.13"
  }
 },
 "nbformat": 4,
 "nbformat_minor": 5
}
